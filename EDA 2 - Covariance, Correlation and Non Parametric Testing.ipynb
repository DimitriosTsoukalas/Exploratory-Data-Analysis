{
 "cells": [
  {
   "cell_type": "markdown",
   "metadata": {},
   "source": [
    "# EDA 2 - Covariance, Correlation and Non Parametric Testing\n",
    "\n",
    "\n",
    "- For **numeric features** the **Pearson** and the **Spearmen** measurements are the most frequently used processess for measuring association among features.\n",
    "\n",
    "- For **categorical variables**, the estimate measurement is an association and the **chi-square** statistic is the most frequently used process for measuring association among features.\n",
    "\n",
    "## Part 1: Importing database\n",
    "- The iris database will be used in this experiment\n",
    "- In the following code we examine only the Pearson and the Spearmen measurements."
   ]
  },
  {
   "cell_type": "code",
   "execution_count": 5,
   "metadata": {},
   "outputs": [],
   "source": [
    "import pandas as pd\n",
    "from sklearn.datasets import load_iris\n",
    "\n",
    "iris = load_iris()\n",
    "iris_nparray = iris.data\n",
    "\n",
    "iris_dataframe = pd.DataFrame(iris.data, columns=iris.feature_names)\n",
    "iris_dataframe[\"group\"] = pd.Series([iris.target_names[k] for k in iris.target], dtype = \"category\")"
   ]
  },
  {
   "cell_type": "markdown",
   "metadata": {},
   "source": [
    "## Part 2: Covariance\n",
    "\n",
    "**Why covariance**? Because it can say if two features have a coincident bahavior with respect to their mean. Three scenarios are examined:\n",
    "\n",
    "- If the signle values of the variables are usually above or below their respective averages, the two variables have a positive association.\n",
    "\n",
    "- If one variable is usually above and the other variable usually below their respective averages, the two variables have a negative association. (Nonetheless, it is okay to proceed with predictions in such cases, just to see their behavior with each other).\n",
    "\n",
    "- If the two variables don't agree or disagree, their covariance tends to be zero, a sign that the variables don't share much and have independednt behaviors.\n",
    "\n",
    "When the **TARGET FEATURE** is numeric variable and we have either positive or negative covariance that means that we have **information redudancy**, which means that"
   ]
  },
  {
   "cell_type": "code",
   "execution_count": 6,
   "metadata": {},
   "outputs": [
    {
     "data": {
      "text/html": [
       "<div>\n",
       "<style scoped>\n",
       "    .dataframe tbody tr th:only-of-type {\n",
       "        vertical-align: middle;\n",
       "    }\n",
       "\n",
       "    .dataframe tbody tr th {\n",
       "        vertical-align: top;\n",
       "    }\n",
       "\n",
       "    .dataframe thead th {\n",
       "        text-align: right;\n",
       "    }\n",
       "</style>\n",
       "<table border=\"1\" class=\"dataframe\">\n",
       "  <thead>\n",
       "    <tr style=\"text-align: right;\">\n",
       "      <th></th>\n",
       "      <th>sepal length (cm)</th>\n",
       "      <th>sepal width (cm)</th>\n",
       "      <th>petal length (cm)</th>\n",
       "      <th>petal width (cm)</th>\n",
       "    </tr>\n",
       "  </thead>\n",
       "  <tbody>\n",
       "    <tr>\n",
       "      <th>sepal length (cm)</th>\n",
       "      <td>0.685694</td>\n",
       "      <td>-0.042434</td>\n",
       "      <td>1.274315</td>\n",
       "      <td>0.516271</td>\n",
       "    </tr>\n",
       "    <tr>\n",
       "      <th>sepal width (cm)</th>\n",
       "      <td>-0.042434</td>\n",
       "      <td>0.189979</td>\n",
       "      <td>-0.329656</td>\n",
       "      <td>-0.121639</td>\n",
       "    </tr>\n",
       "    <tr>\n",
       "      <th>petal length (cm)</th>\n",
       "      <td>1.274315</td>\n",
       "      <td>-0.329656</td>\n",
       "      <td>3.116278</td>\n",
       "      <td>1.295609</td>\n",
       "    </tr>\n",
       "    <tr>\n",
       "      <th>petal width (cm)</th>\n",
       "      <td>0.516271</td>\n",
       "      <td>-0.121639</td>\n",
       "      <td>1.295609</td>\n",
       "      <td>0.581006</td>\n",
       "    </tr>\n",
       "  </tbody>\n",
       "</table>\n",
       "</div>"
      ],
      "text/plain": [
       "                   sepal length (cm)  sepal width (cm)  petal length (cm)  \\\n",
       "sepal length (cm)           0.685694         -0.042434           1.274315   \n",
       "sepal width (cm)           -0.042434          0.189979          -0.329656   \n",
       "petal length (cm)           1.274315         -0.329656           3.116278   \n",
       "petal width (cm)            0.516271         -0.121639           1.295609   \n",
       "\n",
       "                   petal width (cm)  \n",
       "sepal length (cm)          0.516271  \n",
       "sepal width (cm)          -0.121639  \n",
       "petal length (cm)          1.295609  \n",
       "petal width (cm)           0.581006  "
      ]
     },
     "execution_count": 6,
     "metadata": {},
     "output_type": "execute_result"
    }
   ],
   "source": [
    "iris_dataframe.cov()"
   ]
  },
  {
   "cell_type": "markdown",
   "metadata": {},
   "source": [
    "From the above example we can draw two conclusions:\n",
    "\n",
    "- There is no relationship between sepal length and sepal width (- 0.04)\n",
    "- There is a relationship between petal width and petal length (1.29)\n",
    "\n",
    "## Part 3: Correlation / Pearson\n",
    "There are two codes that are presented below:\n",
    "\n",
    "- Correlation, which is the same as covariance, after we standardize the features and\n",
    "- Correlation squared, which tells us EXACTLY, the percentage of information that fit a good relationship between 2 features. Thus, a 0.96 correlation implies that 96% of the information is shared.\n",
    "\n",
    "**NOTE**: The correlation appliances should be used only when there is linear relationship"
   ]
  },
  {
   "cell_type": "code",
   "execution_count": 7,
   "metadata": {},
   "outputs": [
    {
     "data": {
      "text/html": [
       "<div>\n",
       "<style scoped>\n",
       "    .dataframe tbody tr th:only-of-type {\n",
       "        vertical-align: middle;\n",
       "    }\n",
       "\n",
       "    .dataframe tbody tr th {\n",
       "        vertical-align: top;\n",
       "    }\n",
       "\n",
       "    .dataframe thead th {\n",
       "        text-align: right;\n",
       "    }\n",
       "</style>\n",
       "<table border=\"1\" class=\"dataframe\">\n",
       "  <thead>\n",
       "    <tr style=\"text-align: right;\">\n",
       "      <th></th>\n",
       "      <th>sepal length (cm)</th>\n",
       "      <th>sepal width (cm)</th>\n",
       "      <th>petal length (cm)</th>\n",
       "      <th>petal width (cm)</th>\n",
       "    </tr>\n",
       "  </thead>\n",
       "  <tbody>\n",
       "    <tr>\n",
       "      <th>sepal length (cm)</th>\n",
       "      <td>1.000000</td>\n",
       "      <td>-0.117570</td>\n",
       "      <td>0.871754</td>\n",
       "      <td>0.817941</td>\n",
       "    </tr>\n",
       "    <tr>\n",
       "      <th>sepal width (cm)</th>\n",
       "      <td>-0.117570</td>\n",
       "      <td>1.000000</td>\n",
       "      <td>-0.428440</td>\n",
       "      <td>-0.366126</td>\n",
       "    </tr>\n",
       "    <tr>\n",
       "      <th>petal length (cm)</th>\n",
       "      <td>0.871754</td>\n",
       "      <td>-0.428440</td>\n",
       "      <td>1.000000</td>\n",
       "      <td>0.962865</td>\n",
       "    </tr>\n",
       "    <tr>\n",
       "      <th>petal width (cm)</th>\n",
       "      <td>0.817941</td>\n",
       "      <td>-0.366126</td>\n",
       "      <td>0.962865</td>\n",
       "      <td>1.000000</td>\n",
       "    </tr>\n",
       "  </tbody>\n",
       "</table>\n",
       "</div>"
      ],
      "text/plain": [
       "                   sepal length (cm)  sepal width (cm)  petal length (cm)  \\\n",
       "sepal length (cm)           1.000000         -0.117570           0.871754   \n",
       "sepal width (cm)           -0.117570          1.000000          -0.428440   \n",
       "petal length (cm)           0.871754         -0.428440           1.000000   \n",
       "petal width (cm)            0.817941         -0.366126           0.962865   \n",
       "\n",
       "                   petal width (cm)  \n",
       "sepal length (cm)          0.817941  \n",
       "sepal width (cm)          -0.366126  \n",
       "petal length (cm)          0.962865  \n",
       "petal width (cm)           1.000000  "
      ]
     },
     "execution_count": 7,
     "metadata": {},
     "output_type": "execute_result"
    }
   ],
   "source": [
    "iris_dataframe.corr()"
   ]
  },
  {
   "cell_type": "markdown",
   "metadata": {},
   "source": [
    "- We can now see that the petal width and the petal length are positively correlated (0.96)"
   ]
  },
  {
   "cell_type": "code",
   "execution_count": 8,
   "metadata": {},
   "outputs": [
    {
     "data": {
      "text/html": [
       "<div>\n",
       "<style scoped>\n",
       "    .dataframe tbody tr th:only-of-type {\n",
       "        vertical-align: middle;\n",
       "    }\n",
       "\n",
       "    .dataframe tbody tr th {\n",
       "        vertical-align: top;\n",
       "    }\n",
       "\n",
       "    .dataframe thead th {\n",
       "        text-align: right;\n",
       "    }\n",
       "</style>\n",
       "<table border=\"1\" class=\"dataframe\">\n",
       "  <thead>\n",
       "    <tr style=\"text-align: right;\">\n",
       "      <th></th>\n",
       "      <th>sepal length (cm)</th>\n",
       "      <th>sepal width (cm)</th>\n",
       "      <th>petal length (cm)</th>\n",
       "      <th>petal width (cm)</th>\n",
       "    </tr>\n",
       "  </thead>\n",
       "  <tbody>\n",
       "    <tr>\n",
       "      <th>sepal length (cm)</th>\n",
       "      <td>1.000000</td>\n",
       "      <td>0.013823</td>\n",
       "      <td>0.759955</td>\n",
       "      <td>0.669028</td>\n",
       "    </tr>\n",
       "    <tr>\n",
       "      <th>sepal width (cm)</th>\n",
       "      <td>0.013823</td>\n",
       "      <td>1.000000</td>\n",
       "      <td>0.183561</td>\n",
       "      <td>0.134048</td>\n",
       "    </tr>\n",
       "    <tr>\n",
       "      <th>petal length (cm)</th>\n",
       "      <td>0.759955</td>\n",
       "      <td>0.183561</td>\n",
       "      <td>1.000000</td>\n",
       "      <td>0.927110</td>\n",
       "    </tr>\n",
       "    <tr>\n",
       "      <th>petal width (cm)</th>\n",
       "      <td>0.669028</td>\n",
       "      <td>0.134048</td>\n",
       "      <td>0.927110</td>\n",
       "      <td>1.000000</td>\n",
       "    </tr>\n",
       "  </tbody>\n",
       "</table>\n",
       "</div>"
      ],
      "text/plain": [
       "                   sepal length (cm)  sepal width (cm)  petal length (cm)  \\\n",
       "sepal length (cm)           1.000000          0.013823           0.759955   \n",
       "sepal width (cm)            0.013823          1.000000           0.183561   \n",
       "petal length (cm)           0.759955          0.183561           1.000000   \n",
       "petal width (cm)            0.669028          0.134048           0.927110   \n",
       "\n",
       "                   petal width (cm)  \n",
       "sepal length (cm)          0.669028  \n",
       "sepal width (cm)           0.134048  \n",
       "petal length (cm)          0.927110  \n",
       "petal width (cm)           1.000000  "
      ]
     },
     "execution_count": 8,
     "metadata": {},
     "output_type": "execute_result"
    }
   ],
   "source": [
    "iris_dataframe.corr()**2"
   ]
  },
  {
   "cell_type": "markdown",
   "metadata": {},
   "source": [
    "## Part 4: Non parametric test / Spearman\n",
    "When:\n",
    "\n",
    "- The features are ordinal or\n",
    "- We suspect some nonlinearity due to non normal distributions in our data\n",
    "\n",
    "Then:\n",
    "\n",
    "- A good approach is a **test the doubtful correlation with a nonparametric correlation** such as Spearman's correlation.\n",
    "\n",
    "The Spearman's correlation transforms the numeric values into rankings and then correlates the rankings, thus minimizes the influce of any nonlinear relatonship between the two variables under scrutiny.\n",
    "\n",
    "We will apply the non parametric test to **sepal length** and **sepal width** to double confirm the non-correlation and non relationship of the two features."
   ]
  },
  {
   "cell_type": "code",
   "execution_count": 9,
   "metadata": {},
   "outputs": [
    {
     "name": "stdout",
     "output_type": "stream",
     "text": [
      "Pearson correlation  -0.118\n",
      "Spearman correlation -0.167\n"
     ]
    }
   ],
   "source": [
    "from scipy.stats import spearmanr\n",
    "from scipy.stats import pearsonr\n",
    "\n",
    "spearmanr_coef, spearmanr_p = spearmanr(iris_dataframe[\"sepal length (cm)\"],iris_dataframe[\"sepal width (cm)\"])\n",
    "pearsonr_coef, spearmanr_p = pearsonr(iris_dataframe[\"sepal length (cm)\"],iris_dataframe[\"sepal width (cm)\"])\n",
    "\n",
    "print (\"Pearson correlation  %0.3f\\nSpearman correlation %0.3f\" % (pearsonr_coef,spearmanr_coef))"
   ]
  },
  {
   "cell_type": "markdown",
   "metadata": {},
   "source": [
    "Pearson correlation  -0.118\n",
    "Spearman correlation -0.167\n",
    "\n",
    "**Conclusion**: The above code confirms the weak association between the two variables using the nonparametric test."
   ]
  },
  {
   "cell_type": "markdown",
   "metadata": {},
   "source": [
    "- When we were checking the variables with skewness and kurtosis for their correlation, the results were dissapointing. Using non-parametric tests of course told us more. By transforming data it may provide solutions to our problems.\n",
    "- Using for loop we will now experiment on value of Pearson's r value to check the correlation between two features.\n",
    "- Transformation power, can change the correlation of the two features and eventually, the algorithm's final performance.\n"
   ]
  },
  {
   "cell_type": "code",
   "execution_count": 31,
   "metadata": {},
   "outputs": [
    {
     "name": "stdout",
     "output_type": "stream",
     "text": [
      "Transformation: x       \t    Pearson's r:  -0.118\n",
      "Transformation: 1/x       \t    Pearson's r:  0.080\n",
      "Transformation: x**2       \t    Pearson's r:  -0.131\n",
      "Transformation: x**3       \t    Pearson's r:  -0.140\n",
      "Transformation: log(x)       \t    Pearson's r:  -0.100\n",
      "Transformation: sqrt(x)       \t    Pearson's r:  -0.109\n",
      "Transformation: exp(x)       \t    Pearson's r:  -0.142\n",
      "Transformation: log(1/x)       \t    Pearson's r:  0.100\n"
     ]
    }
   ],
   "source": [
    "import numpy as np\n",
    "\n",
    "transformations = {'x':lambda x:x, '1/x':lambda x:1/x,'x**2':lambda x: x**2, \"x**3\": lambda x: x**3,\"log(x)\": lambda x:np.log(x),'sqrt(x)':lambda x: np.sqrt(x), 'exp(x)':lambda x: np.exp(x),'log(1/x)':lambda x: np.log(1/x)}\n",
    "for transformation in transformations:\n",
    "    pearsonr_coef,pearsonr_p = pearsonr(iris_dataframe['sepal length (cm)'], transformations[transformation](iris_dataframe[\"sepal width (cm)\"]))\n",
    "    print (\"Transformation: %s       \\t    Pearson\\'s r:  %0.3f\" % (transformation,pearsonr_coef)) "
   ]
  }
 ],
 "metadata": {
  "kernelspec": {
   "display_name": "Python 3",
   "language": "python",
   "name": "python3"
  },
  "language_info": {
   "codemirror_mode": {
    "name": "ipython",
    "version": 3
   },
   "file_extension": ".py",
   "mimetype": "text/x-python",
   "name": "python",
   "nbconvert_exporter": "python",
   "pygments_lexer": "ipython3",
   "version": "3.7.3"
  }
 },
 "nbformat": 4,
 "nbformat_minor": 2
}
