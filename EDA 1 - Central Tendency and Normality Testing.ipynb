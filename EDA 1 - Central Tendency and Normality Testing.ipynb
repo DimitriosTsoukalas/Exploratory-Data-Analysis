{
 "cells": [
  {
   "cell_type": "markdown",
   "metadata": {},
   "source": [
    "# Central Tendency and Normality Testing"
   ]
  },
  {
   "cell_type": "markdown",
   "metadata": {},
   "source": [
    "## Part 1: Importing database\n",
    "\n",
    "For this experiment, the iris database will be used."
   ]
  },
  {
   "cell_type": "code",
   "execution_count": 2,
   "metadata": {},
   "outputs": [],
   "source": [
    "import pandas as pd\n",
    "from sklearn.datasets import load_iris\n",
    "\n",
    "iris = load_iris()\n",
    "iris_nparray = iris.data\n",
    "\n",
    "iris_dataframe = pd.DataFrame(iris.data, columns=iris.feature_names)\n",
    "iris_dataframe[\"group\"] = pd.Series([iris.target_names[k] for k in iris.target], dtype = \"category\")"
   ]
  },
  {
   "cell_type": "markdown",
   "metadata": {},
   "source": [
    "## Part 2: Measure central tendency\n",
    "\n",
    "- Mean\n",
    "- Median\n",
    "- Standard Deviation\n",
    "- Max\n",
    "- Max and Min"
   ]
  },
  {
   "cell_type": "code",
   "execution_count": 3,
   "metadata": {},
   "outputs": [
    {
     "name": "stdout",
     "output_type": "stream",
     "text": [
      "Mean\n",
      "sepal length (cm)    5.843333\n",
      "sepal width (cm)     3.057333\n",
      "petal length (cm)    3.758000\n",
      "petal width (cm)     1.199333\n",
      "dtype: float64\n",
      "\n",
      "Median\n",
      "sepal length (cm)    5.80\n",
      "sepal width (cm)     3.00\n",
      "petal length (cm)    4.35\n",
      "petal width (cm)     1.30\n",
      "dtype: float64\n",
      "\n",
      "Standard Deviation\n",
      "sepal length (cm)    0.828066\n",
      "sepal width (cm)     0.435866\n",
      "petal length (cm)    1.765298\n",
      "petal width (cm)     0.762238\n",
      "dtype: float64\n",
      "\n",
      "Max\n",
      "sepal length (cm)    7.9\n",
      "sepal width (cm)     4.4\n",
      "petal length (cm)    6.9\n",
      "petal width (cm)     2.5\n",
      "dtype: float64\n",
      "\n",
      "Max - Min\n",
      "sepal length (cm)    3.6\n",
      "sepal width (cm)     2.4\n",
      "petal length (cm)    5.9\n",
      "petal width (cm)     2.4\n",
      "dtype: float64\n"
     ]
    }
   ],
   "source": [
    "#Mean\n",
    "print (\"Mean\")\n",
    "print (iris_dataframe.mean(numeric_only=True))\n",
    "print ()\n",
    "\n",
    "#Median\n",
    "print (\"Median\")\n",
    "print (iris_dataframe.median(numeric_only=True)) \n",
    "print ()\n",
    "\n",
    "#Standard Deviation\n",
    "print (\"Standard Deviation\")\n",
    "print (iris_dataframe.std())\n",
    "print ()\n",
    "\n",
    "#Max - Min\n",
    "print (\"Max\")\n",
    "print (iris_dataframe.max(numeric_only = True))\n",
    "print ()\n",
    "print (\"Max - Min\")\n",
    "print (iris_dataframe.max(numeric_only = True) - iris_dataframe.min(numeric_only=True))"
   ]
  },
  {
   "cell_type": "markdown",
   "metadata": {},
   "source": [
    "## Part 3: Applying Kurtosis and Skewness test\n",
    "\n",
    "To find out whether our data are normally distributed or not, we apply **Skewness** and **Kurtosis** testing.\n",
    "\n",
    "If they are not normally distributed, then statistical testing is innacurate. \n",
    "\n",
    "(Of course there is a huge gap between parametric and non-parametric tests but will not focus on that now).\n",
    "\n",
    "Python has the following two libraries for conducting skewness and kurtosis testing:"
   ]
  },
  {
   "cell_type": "code",
   "execution_count": 4,
   "metadata": {},
   "outputs": [],
   "source": [
    "from scipy.stats import skew, skewtest\n",
    "from scipy.stats import kurtosis, kurtosistest"
   ]
  },
  {
   "cell_type": "markdown",
   "metadata": {},
   "source": [
    "**Skewness** measures the asymmetry of the probability distribution of ONE random variable on its mean. It tells you the amount and direction of skew (right or left).\n",
    "\n",
    "- If skewness is less than -1 or greater than 1, then the distribution is highly skewed.\n",
    "- If skewness is between -1 and -0.5 or between 0.5 and 1, the distribution is moderately skewed.\n",
    "- If skewness is between -0.5 and 0.5, sad distributions is approximately symetric.\n",
    "\n",
    "- If skewness figure is negative the curve is skewed to the left\n",
    "- If skewness figure is positive the curve is skewed to the right\n",
    "\n",
    "**Z-score** is the standardized value of (x-mean(Σx))/std(Σx). In simple words, it is how far a particular result is from the mean in terms of standard deviation.\n",
    "\n",
    "**P-Value**: In the following test, we determine whether the P-Value is less than or equal to 0.05. If so, we will have to reject normality, which implies that we could obtain better results if we try to transform the variable into a normal one. "
   ]
  },
  {
   "cell_type": "code",
   "execution_count": 5,
   "metadata": {},
   "outputs": [
    {
     "name": "stdout",
     "output_type": "stream",
     "text": [
      "Skewness: -0.272\n",
      "Z-score:  -1.400\n",
      "P-value:   0.162\n"
     ]
    }
   ],
   "source": [
    "k = skew(iris_dataframe[\"petal length (cm)\"])\n",
    "zscore,pvalue = skewtest(iris_dataframe[\"petal length (cm)\"])\n",
    "print  (\"Skewness: %0.3f\\nZ-score:  %0.3f\\nP-value:   %0.3f\" % (k, zscore, pvalue))"
   ]
  },
  {
   "cell_type": "markdown",
   "metadata": {},
   "source": [
    " **Kurtosis** tells you the height and sharpness of the central peak, relative to that of a standard bell curve."
   ]
  },
  {
   "cell_type": "code",
   "execution_count": 6,
   "metadata": {},
   "outputs": [
    {
     "name": "stdout",
     "output_type": "stream",
     "text": [
      "Kurtosis -1.396\n",
      "Z-score: -14.823\n",
      "P-value:  0.000\n"
     ]
    }
   ],
   "source": [
    "k = kurtosis(iris_dataframe[\"petal length (cm)\"])\n",
    "zscore,pvalue = kurtosistest(iris_dataframe[\"petal length (cm)\"])\n",
    "print  (\"Kurtosis %0.3f\\nZ-score: %0.3f\\nP-value:  %0.3f\" % (k, zscore, pvalue))"
   ]
  },
  {
   "cell_type": "markdown",
   "metadata": {},
   "source": [
    "## Part 4: Barplot"
   ]
  },
  {
   "cell_type": "code",
   "execution_count": 36,
   "metadata": {},
   "outputs": [
    {
     "data": {
      "text/plain": [
       "Text(0, 0.5, 'Count')"
      ]
     },
     "execution_count": 36,
     "metadata": {},
     "output_type": "execute_result"
    },
    {
     "data": {
      "image/png": "[encoded data removed]",
      "text/plain": [
       "<Figure size 1368x504 with 1 Axes>"
      ]
     },
     "metadata": {
      "needs_background": "light"
     },
     "output_type": "display_data"
    }
   ],
   "source": [
    "plt.figure(figsize = (19, 7)) \n",
    "x = iris_dataframe[\"petal length (cm)\"]  \n",
    "plt.hist(x, bins = 20, color = \"green\") \n",
    "plt.title(\"Petal Length\") \n",
    "plt.xlabel(\"Petal Length\") \n",
    "plt.ylabel(\"Count\") "
   ]
  },
  {
   "cell_type": "markdown",
   "metadata": {},
   "source": [
    "## Part 5: Boxplot"
   ]
  },
  {
   "cell_type": "code",
   "execution_count": 37,
   "metadata": {},
   "outputs": [
    {
     "data": {
      "image/png": "[encoded data removed]",
      "text/plain": [
       "<Figure size 1440x720 with 1 Axes>"
      ]
     },
     "metadata": {
      "needs_background": "light"
     },
     "output_type": "display_data"
    }
   ],
   "source": [
    "fig1, ax1 = plt.subplots()\n",
    "ax1.set_title('Petal Length Boxplot')\n",
    "ax1.boxplot(iris_dataframe[\"petal length (cm)\"])\n",
    "plt.rcParams[\"figure.figsize\"]=(20,10)"
   ]
  },
  {
   "cell_type": "markdown",
   "metadata": {},
   "source": [
    "## Part 4: Conclusion:\n",
    "\n",
    "**Skewness Test Results**: The test shows that the data is slightly skewed to the left but not enough to make it unusable.\n",
    "\n",
    "**Kurtosis Test Results**: The test shows that the curve is much too flat to be bell shapes. What can be done here is to bring data into a different form and an approach will be examined in another experiment."
   ]
  }
 ],
 "metadata": {
  "kernelspec": {
   "display_name": "Python 3",
   "language": "python",
   "name": "python3"
  },
  "language_info": {
   "codemirror_mode": {
    "name": "ipython",
    "version": 3
   },
   "file_extension": ".py",
   "mimetype": "text/x-python",
   "name": "python",
   "nbconvert_exporter": "python",
   "pygments_lexer": "ipython3",
   "version": "3.7.2"
  }
 },
 "nbformat": 4,
 "nbformat_minor": 2
}
