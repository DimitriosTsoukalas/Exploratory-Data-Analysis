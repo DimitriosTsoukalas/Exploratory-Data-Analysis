{
 "cells": [
  {
   "cell_type": "markdown",
   "metadata": {},
   "source": [
    "# Normality Testing, T-testing and ANOVA"
   ]
  },
  {
   "cell_type": "markdown",
   "metadata": {},
   "source": [
    "## Part 1: Import Database"
   ]
  },
  {
   "cell_type": "code",
   "execution_count": 3,
   "metadata": {},
   "outputs": [],
   "source": [
    "import pandas as pd\n",
    "from sklearn.datasets import load_iris\n",
    "\n",
    "iris = load_iris()\n",
    "iris_nparray = iris.data\n",
    "\n",
    "iris_dataframe = pd.DataFrame(iris.data, columns=iris.feature_names)\n",
    "iris_dataframe[\"group\"] = pd.Series([iris.target_names[k] for k in iris.target], dtype = \"category\")"
   ]
  },
  {
   "cell_type": "markdown",
   "metadata": {},
   "source": [
    "## Part 2: Kurtosis and Skewness test\n",
    "\n",
    "To find out whether our data are normally distributed or not, we apply **Skewness** and **Kurtosis** testing.\n",
    "\n",
    "If they are not normally distributed, then statistical testing is innacurate.\n",
    "\n",
    "(Of course there is a huge gap between parametric and non-parametric tests but will not focus on that now).\n",
    "\n",
    "Python has the following two libraries for conducting skewness and kurtosis testing:"
   ]
  },
  {
   "cell_type": "code",
   "execution_count": 4,
   "metadata": {},
   "outputs": [],
   "source": [
    "from scipy.stats import skew, skewtest\n",
    "from scipy.stats import kurtosis, kurtosistest"
   ]
  },
  {
   "cell_type": "markdown",
   "metadata": {},
   "source": [
    "**Skewness** measures the asymmetry of the probability distribution of ONE random variable on its mean. It tells you the amount and direction of skew (right or left).\n",
    "\n",
    "- If skewness is less than -1 or greater than 1, then the distribution is highly skewed.\n",
    "- If skewness is between -1 and -0.5 or between 0.5 and 1, the distribution is moderately skewed.\n",
    "- If skewness is between -0.5 and 0.5, sad distributions is approximately symetric.\n",
    "- If skewness figure is negative the curve is skewed to the left\n",
    "- If skewness figure is positive the curve is skewed to the right\n",
    "\n",
    "**Kurtosis** tells you the height and sharpness of the central peak, relative to that of a standard bell curve.\n",
    "\n",
    "**Z-score** is the standardized value of (x-mean(Σx))/std(Σx). In simple words, it is how far a particular result is from the mean in terms of standard deviation.\n",
    "\n",
    "**P-Value**: In the following test, we determine whether the P-Value is less than or equal to 0.05. If so, we will have to reject normality, which implies that we could obtain better results if we try to transform the variable into a normal one."
   ]
  },
  {
   "cell_type": "markdown",
   "metadata": {},
   "source": [
    "### 2.1 - Skewness"
   ]
  },
  {
   "cell_type": "code",
   "execution_count": 5,
   "metadata": {},
   "outputs": [
    {
     "name": "stdout",
     "output_type": "stream",
     "text": [
      "Skewness: -0.272\n",
      "Z-score:  -1.400\n",
      "P-value:   0.162\n"
     ]
    }
   ],
   "source": [
    "k = skew(iris_dataframe[\"petal length (cm)\"])\n",
    "zscore,pvalue = skewtest(iris_dataframe[\"petal length (cm)\"])\n",
    "print  (\"Skewness: %0.3f\\nZ-score:  %0.3f\\nP-value:   %0.3f\" % (k, zscore, pvalue))"
   ]
  },
  {
   "cell_type": "markdown",
   "metadata": {},
   "source": [
    "**Skewness Test Results**: The test shows that the data is slightly skewed to the left but not enough to make it unusable."
   ]
  },
  {
   "cell_type": "markdown",
   "metadata": {},
   "source": [
    "### 2.2 - Kurtosis"
   ]
  },
  {
   "cell_type": "code",
   "execution_count": 6,
   "metadata": {},
   "outputs": [
    {
     "name": "stdout",
     "output_type": "stream",
     "text": [
      "Kurtosis -1.396\n",
      "Z-score: -14.823\n",
      "P-value:  0.000\n"
     ]
    }
   ],
   "source": [
    "k = kurtosis(iris_dataframe[\"petal length (cm)\"])\n",
    "zscore,pvalue = kurtosistest(iris_dataframe[\"petal length (cm)\"])\n",
    "print  (\"Kurtosis %0.3f\\nZ-score: %0.3f\\nP-value:  %0.3f\" % (k, zscore, pvalue))"
   ]
  },
  {
   "cell_type": "markdown",
   "metadata": {},
   "source": [
    "**Kurtosis Test Results**: The test shows that the curve is much too flat to be bell shapes. What can be done here is to bring data into a different form and an approach will be examined in another experiment."
   ]
  },
  {
   "cell_type": "markdown",
   "metadata": {},
   "source": [
    "## Part 3: Boxplots\n",
    "\n",
    "Boxplots are allowing us to identify outliers and observe discrepancies between our features. The following code presents two type of boxplots:\n",
    "1. As per variables' distribution (which will be plotted using matplotlib)\n",
    "2. As per groups' distribution (which will be plotted using seaborn)"
   ]
  },
  {
   "cell_type": "code",
   "execution_count": 7,
   "metadata": {},
   "outputs": [
    {
     "data": {
      "text/plain": [
       "Text(0.5, 1.0, 'Boxplots for Variables')"
      ]
     },
     "execution_count": 7,
     "metadata": {},
     "output_type": "execute_result"
    }
   ],
   "source": [
    "import matplotlib.pyplot as plt\n",
    "\n",
    "plt.figure(figsize=(16,8))\n",
    "boxplots = iris_dataframe.boxplot(return_type=\"axes\")\n",
    "plt.title(\"Boxplots for Variables\",color=\"black\",fontsize=40)"
   ]
  },
  {
   "cell_type": "code",
   "execution_count": 8,
   "metadata": {},
   "outputs": [
    {
     "data": {
      "text/plain": [
       "<matplotlib.axes._subplots.AxesSubplot at 0x26b2e762748>"
      ]
     },
     "execution_count": 8,
     "metadata": {},
     "output_type": "execute_result"
    },
    {
     "data": {
      "image/png": "[encoded data removed]",
      "text/plain": [
       "<Figure size 1152x576 with 1 Axes>"
      ]
     },
     "metadata": {
      "needs_background": "light"
     },
     "output_type": "display_data"
    }
   ],
   "source": [
    "import seaborn as sns\n",
    "\n",
    "plt.figure(figsize=(16,8))\n",
    "sns.boxplot(x=\"group\", y=\"petal length (cm)\", data=iris_dataframe)"
   ]
  },
  {
   "cell_type": "markdown",
   "metadata": {},
   "source": [
    "- The conclusion that we can draw from the above diagram is that regarding the length feature, the versicolor and virginica group have some overlapping instances."
   ]
  },
  {
   "cell_type": "markdown",
   "metadata": {},
   "source": [
    "## Part 4: T-testing and ANOVA\n",
    "\n",
    "Having spotted some possible differences between groups, related to a variable, we can apply some T-testing or ANOVA to identify the significance of the difference between the group's means.\n",
    "\n",
    "For this case, we will check the Petal Length as we have already identified via the boxplots some differences between the groups.\n",
    "\n",
    "- **T-testing**: T-test compares **ONLY two features (two groups)** at a time, to see if there is significant difference between their **means**.\n",
    "\n",
    "- **ANOVA**: Is checking more than two features simutaneously"
   ]
  },
  {
   "cell_type": "markdown",
   "metadata": {},
   "source": [
    "### 4.1 - T-testing"
   ]
  },
  {
   "cell_type": "code",
   "execution_count": 16,
   "metadata": {},
   "outputs": [
    {
     "name": "stdout",
     "output_type": "stream",
     "text": [
      "Variance of Petal Length of Versicolor: 0.221\n",
      "Variance of Petal Length of Virginica:  0.305\n",
      "\n",
      "T statistic: -3.206\n",
      "P-value:      0.002\n"
     ]
    }
   ],
   "source": [
    "group0 = iris_dataframe[\"group\"] == \"setosa\"\n",
    "group1 = iris_dataframe[\"group\"] == \"versicolor\"\n",
    "group2 = iris_dataframe[\"group\"] == \"virginica\"\n",
    "\n",
    "print (\"Variance of Petal Length of Versicolor: %0.3f\\nVariance of Petal Length of Virginica:  %0.3f\" % (iris_dataframe[\"petal length (cm)\"][group1].var(),iris_dataframe[\"petal length (cm)\"][group2].var()))\n",
    "\n",
    "from scipy.stats import ttest_ind\n",
    "print ()\n",
    "t, pvalue = ttest_ind(iris_dataframe[\"sepal width (cm)\"][group1], iris_dataframe[\"sepal width (cm)\"][group2],axis=0, equal_var=False)\n",
    "print (\"T statistic: %0.3f\\nP-value:      %0.3f\" % (t,pvalue))"
   ]
  },
  {
   "cell_type": "markdown",
   "metadata": {},
   "source": [
    "- When the p value is below 0.05, we can confirm that the group's means are significantly different"
   ]
  },
  {
   "cell_type": "markdown",
   "metadata": {},
   "source": [
    "### 4.2 - ANOVA"
   ]
  },
  {
   "cell_type": "code",
   "execution_count": 12,
   "metadata": {},
   "outputs": [
    {
     "name": "stdout",
     "output_type": "stream",
     "text": [
      "One-way ANOVA\n",
      "F-value: 49.160\n",
      "P-value: 0.000\n"
     ]
    }
   ],
   "source": [
    "from scipy.stats import f_oneway\n",
    "\n",
    "f,pvalue = f_oneway (iris_dataframe[\"sepal width (cm)\"][group0],iris_dataframe[\"sepal width (cm)\"][group1],iris_dataframe[\"sepal width (cm)\"][group2])\n",
    "\n",
    "print (\"One-way ANOVA\\nF-value: %0.3f\\nP-value: %0.3f\" % (f,pvalue))"
   ]
  },
  {
   "cell_type": "markdown",
   "metadata": {},
   "source": [
    "- **F test**: The above value provides us a point where we can use it to reject data. The F test is following the null hypothesis once we identify the critical value."
   ]
  },
  {
   "cell_type": "markdown",
   "metadata": {},
   "source": [
    "## Part 5: Standardization / Creating a Z score\n",
    "\n",
    "As we saw above, there are different scales and the data are heterogenous.\n",
    "\n",
    "As such, we will need to **transform data** in a way that makes them easily comparable.\n",
    "\n",
    "In the following example we will standardize data, which means that we will use the equation: [x-mean(Σx)] / std(Σx) for all features of the iris dataset."
   ]
  },
  {
   "cell_type": "code",
   "execution_count": 13,
   "metadata": {},
   "outputs": [],
   "source": [
    "from sklearn.preprocessing import scale\n",
    "\n",
    "stand_sepal_length = scale(iris_dataframe[\"sepal length (cm)\"])\n",
    "stand_sepal_width = scale(iris_dataframe[\"sepal width (cm)\"])\n",
    "stand_petal_length = scale(iris_dataframe[\"petal length (cm)\"])\n",
    "stand_petal_width = scale(iris_dataframe[\"petal width (cm)\"])"
   ]
  },
  {
   "cell_type": "code",
   "execution_count": 14,
   "metadata": {},
   "outputs": [
    {
     "data": {
      "text/html": [
       "<div>\n",
       "<style scoped>\n",
       "    .dataframe tbody tr th:only-of-type {\n",
       "        vertical-align: middle;\n",
       "    }\n",
       "\n",
       "    .dataframe tbody tr th {\n",
       "        vertical-align: top;\n",
       "    }\n",
       "\n",
       "    .dataframe thead th {\n",
       "        text-align: right;\n",
       "    }\n",
       "</style>\n",
       "<table border=\"1\" class=\"dataframe\">\n",
       "  <thead>\n",
       "    <tr style=\"text-align: right;\">\n",
       "      <th></th>\n",
       "      <th>Sepal Length</th>\n",
       "      <th>Sepal Width</th>\n",
       "      <th>Petal Width</th>\n",
       "      <th>Petal Length</th>\n",
       "      <th>Category</th>\n",
       "    </tr>\n",
       "  </thead>\n",
       "  <tbody>\n",
       "    <tr>\n",
       "      <th>0</th>\n",
       "      <td>-0.900681</td>\n",
       "      <td>1.019004</td>\n",
       "      <td>-1.315444</td>\n",
       "      <td>-1.340227</td>\n",
       "      <td>setosa</td>\n",
       "    </tr>\n",
       "    <tr>\n",
       "      <th>1</th>\n",
       "      <td>-1.143017</td>\n",
       "      <td>-0.131979</td>\n",
       "      <td>-1.315444</td>\n",
       "      <td>-1.340227</td>\n",
       "      <td>setosa</td>\n",
       "    </tr>\n",
       "    <tr>\n",
       "      <th>2</th>\n",
       "      <td>-1.385353</td>\n",
       "      <td>0.328414</td>\n",
       "      <td>-1.315444</td>\n",
       "      <td>-1.397064</td>\n",
       "      <td>setosa</td>\n",
       "    </tr>\n",
       "    <tr>\n",
       "      <th>3</th>\n",
       "      <td>-1.506521</td>\n",
       "      <td>0.098217</td>\n",
       "      <td>-1.315444</td>\n",
       "      <td>-1.283389</td>\n",
       "      <td>setosa</td>\n",
       "    </tr>\n",
       "    <tr>\n",
       "      <th>4</th>\n",
       "      <td>-1.021849</td>\n",
       "      <td>1.249201</td>\n",
       "      <td>-1.315444</td>\n",
       "      <td>-1.340227</td>\n",
       "      <td>setosa</td>\n",
       "    </tr>\n",
       "  </tbody>\n",
       "</table>\n",
       "</div>"
      ],
      "text/plain": [
       "   Sepal Length  Sepal Width  Petal Width  Petal Length Category\n",
       "0     -0.900681     1.019004    -1.315444     -1.340227   setosa\n",
       "1     -1.143017    -0.131979    -1.315444     -1.340227   setosa\n",
       "2     -1.385353     0.328414    -1.315444     -1.397064   setosa\n",
       "3     -1.506521     0.098217    -1.315444     -1.283389   setosa\n",
       "4     -1.021849     1.249201    -1.315444     -1.340227   setosa"
      ]
     },
     "execution_count": 14,
     "metadata": {},
     "output_type": "execute_result"
    }
   ],
   "source": [
    "df1 = pd.DataFrame({'Sepal Length':stand_sepal_length,'Sepal Width':stand_sepal_width,'Petal Width':stand_petal_width,'Petal Length':stand_petal_length, \"Category\": iris_dataframe[\"group\"]})\n",
    "df1.head()"
   ]
  },
  {
   "cell_type": "markdown",
   "metadata": {},
   "source": [
    "## Part 6: Boxplots after Standardization"
   ]
  },
  {
   "cell_type": "code",
   "execution_count": 15,
   "metadata": {},
   "outputs": [
    {
     "data": {
      "image/png": "[encoded data removed]",
      "text/plain": [
       "<Figure size 1152x432 with 1 Axes>"
      ]
     },
     "metadata": {
      "needs_background": "light"
     },
     "output_type": "display_data"
    }
   ],
   "source": [
    "plt.figure(figsize=(16,6))\n",
    "boxplots = df1.boxplot(return_type=\"axes\")"
   ]
  },
  {
   "cell_type": "markdown",
   "metadata": {},
   "source": [
    "## Part 7: Conclusions:\n",
    "\n",
    "By standardizing the data and by viewing the last boxplot chart, it is easier to compare and to reach into conclusions.\n",
    "\n",
    "- One thing here is that means are approximately similar but not the same. This is because data were standardized.\n",
    "\n",
    "- Another thing is that it is easier to detect and remove outliers."
   ]
  }
 ],
 "metadata": {
  "kernelspec": {
   "display_name": "Python 3",
   "language": "python",
   "name": "python3"
  },
  "language_info": {
   "codemirror_mode": {
    "name": "ipython",
    "version": 3
   },
   "file_extension": ".py",
   "mimetype": "text/x-python",
   "name": "python",
   "nbconvert_exporter": "python",
   "pygments_lexer": "ipython3",
   "version": "3.7.3"
  }
 },
 "nbformat": 4,
 "nbformat_minor": 2
}
